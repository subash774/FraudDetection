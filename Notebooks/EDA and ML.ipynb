{
 "cells": [
  {
   "cell_type": "code",
   "execution_count": 1,
   "metadata": {},
   "outputs": [],
   "source": [
    "import pandas as pd\n",
    "from collections import Counter\n",
    "import json\n",
    "import numpy as np\n",
    "import matplotlib.pyplot as plt\n",
    "import seaborn as sns\n",
    "%matplotlib inline"
   ]
  },
  {
   "cell_type": "code",
   "execution_count": 2,
   "metadata": {},
   "outputs": [],
   "source": [
    "# data seems to be lines of json rather than a single object\n",
    "# loading it into a list so I can carry out merging this way\n",
    "# only feasible when the data size is small. Wouldn't do this if data size was huge\n",
    "d = []\n",
    "with open('../Data/customers.json') as f:\n",
    "    for line in f:\n",
    "        d.append(json.loads(line))"
   ]
  },
  {
   "cell_type": "code",
   "execution_count": 3,
   "metadata": {},
   "outputs": [],
   "source": [
    "# take the first data point and turn it into a dataframe, other data points can then append on this root frame\n",
    "# (again, it would've been more efficient if this was done on the fly when reading lines off json file \n",
    "# but this method in my opinion is more readable)\n",
    "\n",
    "ordersFrame = pd.DataFrame(d[0]['orders'])\n",
    "customers_frame = pd.json_normalize(d[0]['customer']) \n",
    "ordersFrame['joinkey'], customers_frame['joinkey'] = 0,0 # temporary join key for customer and orders\n",
    "df = pd.merge(ordersFrame,customers_frame, on='joinkey').drop(columns='joinkey')\n",
    "df['fraudulent'] = d[0]['fraudulent']"
   ]
  },
  {
   "cell_type": "code",
   "execution_count": 4,
   "metadata": {},
   "outputs": [],
   "source": [
    "# repeat the above process for all line of json\n",
    "for i in range(1,len(d)):\n",
    "    orders_frame = pd.DataFrame(d[i]['orders'])\n",
    "    customers_frame = pd.json_normalize(d[i]['customer']) \n",
    "    orders_frame['joinkey'], customers_frame['joinkey'] = 0,0\n",
    "    merged_orders_customers = pd.merge(orders_frame,customers_frame, on='joinkey').drop(columns='joinkey')\n",
    "    merged_orders_customers['fraudulent'] = d[i]['fraudulent']\n",
    "    df = pd.concat([df, merged_orders_customers], ignore_index=True)"
   ]
  },
  {
   "cell_type": "code",
   "execution_count": 5,
   "metadata": {},
   "outputs": [],
   "source": [
    "# join the rest of the data on foreign keys\n",
    "trans = pd.json_normalize(data=d, record_path=\"transactions\")\n",
    "df = pd.merge(df, trans, on=\"orderId\")\n",
    "payments = pd.json_normalize(data=d, record_path=\"paymentMethods\")\n",
    "df = pd.merge(df, payments, on=\"paymentMethodId\")"
   ]
  },
  {
   "cell_type": "code",
   "execution_count": 6,
   "metadata": {},
   "outputs": [
    {
     "data": {
      "text/plain": [
       "(623, 18)"
      ]
     },
     "execution_count": 6,
     "metadata": {},
     "output_type": "execute_result"
    }
   ],
   "source": [
    "df.shape"
   ]
  },
  {
   "cell_type": "code",
   "execution_count": 7,
   "metadata": {},
   "outputs": [
    {
     "data": {
      "text/plain": [
       "orderId                             478\n",
       "orderAmount                          67\n",
       "orderState                            3\n",
       "orderShippingAddress                274\n",
       "customerEmail                       136\n",
       "customerPhone                       141\n",
       "customerDevice                      141\n",
       "customerIPAddress                   138\n",
       "customerBillingAddress              139\n",
       "fraudulent                            2\n",
       "transactionId                       623\n",
       "paymentMethodId                     237\n",
       "transactionAmount                    67\n",
       "transactionFailed                     2\n",
       "paymentMethodRegistrationFailure      2\n",
       "paymentMethodType                     4\n",
       "paymentMethodProvider                10\n",
       "paymentMethodIssuer                  19\n",
       "dtype: int64"
      ]
     },
     "execution_count": 7,
     "metadata": {},
     "output_type": "execute_result"
    }
   ],
   "source": [
    "# transaction id seems to be the primary key here\n",
    "df.nunique()"
   ]
  },
  {
   "cell_type": "code",
   "execution_count": 8,
   "metadata": {},
   "outputs": [
    {
     "data": {
      "text/plain": [
       "orderId                             0\n",
       "orderAmount                         0\n",
       "orderState                          0\n",
       "orderShippingAddress                0\n",
       "customerEmail                       0\n",
       "customerPhone                       0\n",
       "customerDevice                      0\n",
       "customerIPAddress                   0\n",
       "customerBillingAddress              0\n",
       "fraudulent                          0\n",
       "transactionId                       0\n",
       "paymentMethodId                     0\n",
       "transactionAmount                   0\n",
       "transactionFailed                   0\n",
       "paymentMethodRegistrationFailure    0\n",
       "paymentMethodType                   0\n",
       "paymentMethodProvider               0\n",
       "paymentMethodIssuer                 0\n",
       "dtype: int64"
      ]
     },
     "execution_count": 8,
     "metadata": {},
     "output_type": "execute_result"
    }
   ],
   "source": [
    "# check for missing data\n",
    "df.isna().sum()"
   ]
  },
  {
   "cell_type": "code",
   "execution_count": 9,
   "metadata": {},
   "outputs": [],
   "source": [
    "# some arbitrary Id such as orderId wouldn't contribute to fraud classification, so drop\n",
    "redundant_cols = [x for x in df.columns if (\"Id\" in x)]\n",
    "\n",
    "df.drop(redundant_cols, axis=1, inplace=True)"
   ]
  },
  {
   "cell_type": "code",
   "execution_count": 10,
   "metadata": {},
   "outputs": [
    {
     "name": "stdout",
     "output_type": "stream",
     "text": [
      "False    588\n",
      "True      35\n",
      "dtype: int64\n"
     ]
    }
   ],
   "source": [
    "# check for duplicated data\n",
    "print(df.duplicated().value_counts())\n",
    "# now that we've dropped the Ids, the remaining values are probably duplicated. \n",
    "# This could be genuine duplicates or due to dropped columns. For now, I want to drop it.\n",
    "\n",
    "df.drop_duplicates(inplace=True)"
   ]
  },
  {
   "cell_type": "code",
   "execution_count": 11,
   "metadata": {},
   "outputs": [
    {
     "data": {
      "text/plain": [
       "True    588\n",
       "dtype: int64"
      ]
     },
     "execution_count": 11,
     "metadata": {},
     "output_type": "execute_result"
    }
   ],
   "source": [
    "(df.transactionAmount == df.orderAmount).value_counts()"
   ]
  },
  {
   "cell_type": "code",
   "execution_count": 12,
   "metadata": {},
   "outputs": [],
   "source": [
    "# they seem to be the same thing, drop the redundant column\n",
    "# customer device seems to be a random string, shouldn't contribute to the cause\n",
    "df.drop(['transactionAmount','customerDevice'], axis=1, inplace=True)"
   ]
  },
  {
   "cell_type": "code",
   "execution_count": 13,
   "metadata": {},
   "outputs": [
    {
     "data": {
      "text/plain": [
       "<matplotlib.axes._subplots.AxesSubplot at 0x10b8122d0>"
      ]
     },
     "execution_count": 13,
     "metadata": {},
     "output_type": "execute_result"
    },
    {
     "data": {
      "image/png": "[encoded data removed]",
      "text/plain": [
       "<Figure size 432x288 with 1 Axes>"
      ]
     },
     "metadata": {
      "needs_background": "light"
     },
     "output_type": "display_data"
    }
   ],
   "source": [
    "# check the desnity plot of orderAmount\n",
    "fig, ax = plt.subplots()\n",
    "sns.kdeplot(df[\"orderAmount\"])"
   ]
  },
  {
   "cell_type": "code",
   "execution_count": 14,
   "metadata": {},
   "outputs": [
    {
     "data": {
      "text/plain": [
       "Text(0.5, 0.98, 'OrderAmount vs. Fradulent')"
      ]
     },
     "execution_count": 14,
     "metadata": {},
     "output_type": "execute_result"
    },
    {
     "data": {
      "image/png": "[encoded data removed]",
      "text/plain": [
       "<Figure size 432x288 with 1 Axes>"
      ]
     },
     "metadata": {
      "needs_background": "light"
     },
     "output_type": "display_data"
    }
   ],
   "source": [
    "fig, ax = plt.subplots()\n",
    "\n",
    "sns.kdeplot(df[df[\"fraudulent\"]==True][\"orderAmount\"], shade=True, color=\"red\", label=\"fraud\", ax=ax)\n",
    "sns.kdeplot(df[df[\"fraudulent\"]==False][\"orderAmount\"], shade=True, color=\"green\", label=\"not fraud\", ax=ax)\n",
    "\n",
    "ax.set_xlabel(\"Order Amount\")\n",
    "ax.set_ylabel(\"Density\")\n",
    "\n",
    "fig.suptitle(\"OrderAmount vs. Fradulent\")"
   ]
  },
  {
   "cell_type": "markdown",
   "metadata": {},
   "source": [
    "Having looked at the plots above, there seems to be a couple of things going on.\n",
    "- There seems to be outliers around 350 (orderAmount)\n",
    "- Order amounts more than a certain threshold seem to be mostly, if not all fraudulent\n",
    "- Order amount seems to be a very important factor in classifying fraudulent behaviour"
   ]
  },
  {
   "cell_type": "code",
   "execution_count": 15,
   "metadata": {},
   "outputs": [
    {
     "data": {
      "text/html": [
       "<div>\n",
       "<style scoped>\n",
       "    .dataframe tbody tr th:only-of-type {\n",
       "        vertical-align: middle;\n",
       "    }\n",
       "\n",
       "    .dataframe tbody tr th {\n",
       "        vertical-align: top;\n",
       "    }\n",
       "\n",
       "    .dataframe thead th {\n",
       "        text-align: right;\n",
       "    }\n",
       "</style>\n",
       "<table border=\"1\" class=\"dataframe\">\n",
       "  <thead>\n",
       "    <tr style=\"text-align: right;\">\n",
       "      <th></th>\n",
       "      <th>orderAmount</th>\n",
       "      <th>orderState</th>\n",
       "      <th>orderShippingAddress</th>\n",
       "      <th>customerEmail</th>\n",
       "      <th>customerPhone</th>\n",
       "      <th>customerIPAddress</th>\n",
       "      <th>customerBillingAddress</th>\n",
       "      <th>fraudulent</th>\n",
       "      <th>transactionFailed</th>\n",
       "      <th>paymentMethodRegistrationFailure</th>\n",
       "      <th>paymentMethodType</th>\n",
       "      <th>paymentMethodProvider</th>\n",
       "      <th>paymentMethodIssuer</th>\n",
       "    </tr>\n",
       "  </thead>\n",
       "  <tbody>\n",
       "    <tr>\n",
       "      <th>189</th>\n",
       "      <td>353.0</td>\n",
       "      <td>fulfilled</td>\n",
       "      <td>9596 Christian Bridge\\nWest Nicholasbury, OR 9...</td>\n",
       "      <td>uguzman@yahoo.com</td>\n",
       "      <td>(017)893-9493</td>\n",
       "      <td>151.245.182.84</td>\n",
       "      <td>9596 Christian Bridge\\nWest Nicholasbury, OR 9...</td>\n",
       "      <td>True</td>\n",
       "      <td>True</td>\n",
       "      <td>False</td>\n",
       "      <td>card</td>\n",
       "      <td>VISA 16 digit</td>\n",
       "      <td>Her Majesty Trust</td>\n",
       "    </tr>\n",
       "  </tbody>\n",
       "</table>\n",
       "</div>"
      ],
      "text/plain": [
       "     orderAmount orderState  \\\n",
       "189        353.0  fulfilled   \n",
       "\n",
       "                                  orderShippingAddress      customerEmail  \\\n",
       "189  9596 Christian Bridge\\nWest Nicholasbury, OR 9...  uguzman@yahoo.com   \n",
       "\n",
       "     customerPhone customerIPAddress  \\\n",
       "189  (017)893-9493    151.245.182.84   \n",
       "\n",
       "                                customerBillingAddress  fraudulent  \\\n",
       "189  9596 Christian Bridge\\nWest Nicholasbury, OR 9...        True   \n",
       "\n",
       "     transactionFailed  paymentMethodRegistrationFailure paymentMethodType  \\\n",
       "189               True                             False              card   \n",
       "\n",
       "    paymentMethodProvider paymentMethodIssuer  \n",
       "189         VISA 16 digit   Her Majesty Trust  "
      ]
     },
     "execution_count": 15,
     "metadata": {},
     "output_type": "execute_result"
    }
   ],
   "source": [
    "# see how many outliers there are (more than 3 sigma)\n",
    "from scipy import stats\n",
    "df[(np.abs(stats.zscore(df.orderAmount)) > 3)]"
   ]
  },
  {
   "cell_type": "code",
   "execution_count": 16,
   "metadata": {},
   "outputs": [],
   "source": [
    "# drop the outlier \n",
    "df = df[(np.abs(stats.zscore(df.orderAmount)) < 3)]"
   ]
  },
  {
   "cell_type": "code",
   "execution_count": 17,
   "metadata": {},
   "outputs": [
    {
     "data": {
      "text/plain": [
       "Text(0, 0.5, 'count')"
      ]
     },
     "execution_count": 17,
     "metadata": {},
     "output_type": "execute_result"
    },
    {
     "data": {
      "image/png": "[encoded data removed]",
      "text/plain": [
       "<Figure size 432x288 with 1 Axes>"
      ]
     },
     "metadata": {
      "needs_background": "light"
     },
     "output_type": "display_data"
    }
   ],
   "source": [
    "# check the relationship between payment method issuer and fraudulent cases\n",
    "fig, ax = plt.subplots()\n",
    "df.groupby(\n",
    "    ['paymentMethodIssuer', 'fraudulent'])['orderAmount'].count().unstack().plot(kind=\"bar\", ax=ax)\n",
    "\n",
    "fig.suptitle(\"Fraudulent cases per Payment Method Issuer\")\n",
    "ax.set_ylabel(\"count\")"
   ]
  },
  {
   "cell_type": "markdown",
   "metadata": {},
   "source": [
    "From the chart above, we can see that issuers with a single character names are **very** fraudulent"
   ]
  },
  {
   "cell_type": "code",
   "execution_count": 18,
   "metadata": {},
   "outputs": [
    {
     "data": {
      "text/plain": [
       "Text(0, 0.5, 'count')"
      ]
     },
     "execution_count": 18,
     "metadata": {},
     "output_type": "execute_result"
    },
    {
     "data": {
      "image/png": "[encoded data removed]",
      "text/plain": [
       "<Figure size 432x288 with 1 Axes>"
      ]
     },
     "metadata": {
      "needs_background": "light"
     },
     "output_type": "display_data"
    }
   ],
   "source": [
    "# relationship between payment method type and fraud\n",
    "fig, ax = plt.subplots()\n",
    "df.groupby(\n",
    "    ['paymentMethodType', 'fraudulent'])['orderAmount'].count().unstack().plot(kind=\"bar\", ax=ax)\n",
    "\n",
    "fig.suptitle(\"Fraudulent cases per Payment Method Issuer\")\n",
    "ax.set_ylabel(\"count\")"
   ]
  },
  {
   "cell_type": "markdown",
   "metadata": {},
   "source": [
    "Here, there seems to be no apparent correlation"
   ]
  },
  {
   "cell_type": "code",
   "execution_count": 19,
   "metadata": {},
   "outputs": [
    {
     "data": {
      "text/plain": [
       "fulfilled    208\n",
       "failed        27\n",
       "pending       12\n",
       "Name: orderState, dtype: int64"
      ]
     },
     "execution_count": 19,
     "metadata": {},
     "output_type": "execute_result"
    }
   ],
   "source": [
    "# I'd imagine the fraud labels takes a while to get to Ravelin so most fraudulent order state would be marked as \"fulfilled\"\n",
    "df[df['fraudulent']==True].orderState.value_counts()"
   ]
  },
  {
   "cell_type": "code",
   "execution_count": 20,
   "metadata": {},
   "outputs": [],
   "source": [
    "# most orders seems to have been fulfilled in both fraudulent and non fraudulent cases, I don't think it's a good indicator\n",
    "df.drop(['orderState'], axis=1, inplace=True)"
   ]
  },
  {
   "cell_type": "code",
   "execution_count": 21,
   "metadata": {},
   "outputs": [
    {
     "data": {
      "text/plain": [
       "Text(0, 0.5, 'count')"
      ]
     },
     "execution_count": 21,
     "metadata": {},
     "output_type": "execute_result"
    },
    {
     "data": {
      "image/png": "[encoded data removed]",
      "text/plain": [
       "<Figure size 432x288 with 1 Axes>"
      ]
     },
     "metadata": {
      "needs_background": "light"
     },
     "output_type": "display_data"
    }
   ],
   "source": [
    "# see if failure in transaction would lead to fraudulent behaviour\n",
    "fig, ax = plt.subplots()\n",
    "df.groupby(\n",
    "    ['transactionFailed', 'fraudulent'])['orderAmount'].count().unstack().plot(kind=\"bar\", ax=ax)\n",
    "\n",
    "fig.suptitle(\"Fraudulent cases vs Transaction Failure\")\n",
    "ax.set_ylabel(\"count\")"
   ]
  },
  {
   "cell_type": "markdown",
   "metadata": {},
   "source": [
    "If the transaction fails, most of the order doesn't go through so it makes sense for there to be comparatively less data when it's true."
   ]
  },
  {
   "cell_type": "code",
   "execution_count": 22,
   "metadata": {},
   "outputs": [],
   "source": [
    "# some columns are strings while some are bools and ints, need to encode them\n",
    "obj_cols = df.select_dtypes(include = \"object\").columns\n",
    "bool_cols = df.select_dtypes(include = \"boolean\").columns"
   ]
  },
  {
   "cell_type": "markdown",
   "metadata": {},
   "source": [
    "Because of columns such as address and customer phones and ip addresses, one hot encoding would create a lot of columns in the dataset. As the dimension increases, it becomes harder to build a robust model. (Curse of dimensionality). Label encoding seems like a good idea but the data we have are mostly nominal, it might be a problem to train on encoded data as feature X with value 10 will be given more importance than feature X with value of 1. Hash encoding seems to solve the problems above. However, the columns produced by hash encoding isn't intuitve or interpretable. I want to compare how they differ."
   ]
  },
  {
   "cell_type": "markdown",
   "metadata": {},
   "source": [
    "#### Label encoded"
   ]
  },
  {
   "cell_type": "code",
   "execution_count": 23,
   "metadata": {},
   "outputs": [],
   "source": [
    "# keep orignial data for future \n",
    "df_original = df.copy(deep=True)"
   ]
  },
  {
   "cell_type": "code",
   "execution_count": 24,
   "metadata": {},
   "outputs": [],
   "source": [
    "from sklearn.preprocessing import LabelEncoder\n",
    "\n",
    "lb_enc = LabelEncoder()\n",
    "for col in obj_cols:   \n",
    "    df[col] = lb_enc.fit_transform(df[col])\n",
    "\n",
    "for col in bool_cols:\n",
    "    df.loc[(df[col] == True),col]=1\n",
    "    df.loc[(df[col] == False),col]=0"
   ]
  },
  {
   "cell_type": "code",
   "execution_count": 25,
   "metadata": {},
   "outputs": [
    {
     "data": {
      "text/html": [
       "<div>\n",
       "<style scoped>\n",
       "    .dataframe tbody tr th:only-of-type {\n",
       "        vertical-align: middle;\n",
       "    }\n",
       "\n",
       "    .dataframe tbody tr th {\n",
       "        vertical-align: top;\n",
       "    }\n",
       "\n",
       "    .dataframe thead th {\n",
       "        text-align: right;\n",
       "    }\n",
       "</style>\n",
       "<table border=\"1\" class=\"dataframe\">\n",
       "  <thead>\n",
       "    <tr style=\"text-align: right;\">\n",
       "      <th></th>\n",
       "      <th>0</th>\n",
       "    </tr>\n",
       "  </thead>\n",
       "  <tbody>\n",
       "    <tr>\n",
       "      <th>orderAmount</th>\n",
       "      <td>18</td>\n",
       "    </tr>\n",
       "    <tr>\n",
       "      <th>orderShippingAddress</th>\n",
       "      <td>142</td>\n",
       "    </tr>\n",
       "    <tr>\n",
       "      <th>customerEmail</th>\n",
       "      <td>64</td>\n",
       "    </tr>\n",
       "    <tr>\n",
       "      <th>customerPhone</th>\n",
       "      <td>96</td>\n",
       "    </tr>\n",
       "    <tr>\n",
       "      <th>customerIPAddress</th>\n",
       "      <td>93</td>\n",
       "    </tr>\n",
       "    <tr>\n",
       "      <th>customerBillingAddress</th>\n",
       "      <td>70</td>\n",
       "    </tr>\n",
       "    <tr>\n",
       "      <th>fraudulent</th>\n",
       "      <td>0</td>\n",
       "    </tr>\n",
       "    <tr>\n",
       "      <th>transactionFailed</th>\n",
       "      <td>0</td>\n",
       "    </tr>\n",
       "    <tr>\n",
       "      <th>paymentMethodRegistrationFailure</th>\n",
       "      <td>1</td>\n",
       "    </tr>\n",
       "    <tr>\n",
       "      <th>paymentMethodType</th>\n",
       "      <td>2</td>\n",
       "    </tr>\n",
       "    <tr>\n",
       "      <th>paymentMethodProvider</th>\n",
       "      <td>4</td>\n",
       "    </tr>\n",
       "    <tr>\n",
       "      <th>paymentMethodIssuer</th>\n",
       "      <td>3</td>\n",
       "    </tr>\n",
       "  </tbody>\n",
       "</table>\n",
       "</div>"
      ],
      "text/plain": [
       "                                    0\n",
       "orderAmount                        18\n",
       "orderShippingAddress              142\n",
       "customerEmail                      64\n",
       "customerPhone                      96\n",
       "customerIPAddress                  93\n",
       "customerBillingAddress             70\n",
       "fraudulent                          0\n",
       "transactionFailed                   0\n",
       "paymentMethodRegistrationFailure    1\n",
       "paymentMethodType                   2\n",
       "paymentMethodProvider               4\n",
       "paymentMethodIssuer                 3"
      ]
     },
     "execution_count": 25,
     "metadata": {},
     "output_type": "execute_result"
    }
   ],
   "source": [
    "df.head(1).T"
   ]
  },
  {
   "cell_type": "code",
   "execution_count": 26,
   "metadata": {},
   "outputs": [],
   "source": [
    "X = df.drop([\"fraudulent\"],axis=1)\n",
    "y = df.fraudulent\n",
    "y=y.astype('int') "
   ]
  },
  {
   "cell_type": "code",
   "execution_count": 27,
   "metadata": {},
   "outputs": [],
   "source": [
    "# import ML library and tools\n",
    "from sklearn.linear_model import LogisticRegression\n",
    "from sklearn import svm\n",
    "from sklearn.tree import DecisionTreeClassifier\n",
    "from sklearn.ensemble import RandomForestClassifier\n",
    "from sklearn.pipeline import Pipeline\n",
    "from sklearn.model_selection import train_test_split, GridSearchCV\n",
    "from collections import Counter\n",
    "from sklearn.metrics import accuracy_score, classification_report\n",
    "from os.path import exists\n",
    "from pathlib import Path\n",
    "import joblib"
   ]
  },
  {
   "cell_type": "code",
   "execution_count": 28,
   "metadata": {},
   "outputs": [],
   "source": [
    "Path(\"../Models/\").mkdir(parents=True, exist_ok=True)"
   ]
  },
  {
   "cell_type": "code",
   "execution_count": 29,
   "metadata": {},
   "outputs": [
    {
     "data": {
      "text/plain": [
       "Counter({0: 340, 1: 247})"
      ]
     },
     "execution_count": 29,
     "metadata": {},
     "output_type": "execute_result"
    }
   ],
   "source": [
    "# the data isn't quite perfectly balanced, this might cause some problems\n",
    "Counter(df.fraudulent)"
   ]
  },
  {
   "cell_type": "code",
   "execution_count": 31,
   "metadata": {},
   "outputs": [],
   "source": [
    "# define class weight\n",
    "cw = dict(df.fraudulent.value_counts()/len(df))\n",
    "\n",
    "# Logistic Regression\n",
    "lr_model = Pipeline([(\"model\", LogisticRegression(class_weight=cw, solver=\"liblinear\", random_state=123))])\n",
    "# SVM\n",
    "svm_model = Pipeline([(\"model\", svm.SVC(kernel=\"rbf\", class_weight=cw))])\n",
    "# Decision Tree\n",
    "dt_model = Pipeline([(\"model\", DecisionTreeClassifier(class_weight=cw))])\n",
    "# Random Forest\n",
    "rf_model = Pipeline([(\"model\", RandomForestClassifier(class_weight=cw, n_estimators=200, n_jobs=-1))])"
   ]
  },
  {
   "cell_type": "code",
   "execution_count": 32,
   "metadata": {},
   "outputs": [],
   "source": [
    "Xtrain, Xtest, Ytrain, Ytest = train_test_split(X, y, test_size = 0.3, random_state = 123)"
   ]
  },
  {
   "cell_type": "markdown",
   "metadata": {},
   "source": [
    "#### Hash encoded"
   ]
  },
  {
   "cell_type": "code",
   "execution_count": 33,
   "metadata": {},
   "outputs": [],
   "source": [
    "import category_encoders as ce"
   ]
  },
  {
   "cell_type": "code",
   "execution_count": 34,
   "metadata": {},
   "outputs": [],
   "source": [
    "X_hash = df_original.drop([\"fraudulent\"],axis=1)\n",
    "y_hash = df_original.fraudulent\n",
    "y_hash = y_hash.astype('int') "
   ]
  },
  {
   "cell_type": "code",
   "execution_count": 35,
   "metadata": {},
   "outputs": [],
   "source": [
    "ce_hash = ce.HashingEncoder(cols=obj_cols)\n",
    "X_hash = ce_hash.fit_transform(X_hash,y_hash)"
   ]
  },
  {
   "cell_type": "code",
   "execution_count": 36,
   "metadata": {},
   "outputs": [],
   "source": [
    "# fraudulent col no longer exists in X_hash\n",
    "bools = [x for x in bool_cols if x is not \"fraudulent\"]"
   ]
  },
  {
   "cell_type": "code",
   "execution_count": 37,
   "metadata": {},
   "outputs": [],
   "source": [
    "for col in bools:\n",
    "    X_hash.loc[(X_hash[col] == True),col]=1\n",
    "    X_hash.loc[(X_hash[col] == False),col]=0"
   ]
  },
  {
   "cell_type": "code",
   "execution_count": 38,
   "metadata": {},
   "outputs": [],
   "source": [
    "Xtrain_hash, Xtest_hash, Ytrain_hash, Ytest_hash = train_test_split(X_hash, y_hash, test_size = 0.3, random_state = 123)"
   ]
  },
  {
   "cell_type": "markdown",
   "metadata": {},
   "source": [
    "### ML algorithms"
   ]
  },
  {
   "cell_type": "code",
   "execution_count": 39,
   "metadata": {},
   "outputs": [],
   "source": [
    "def run_random_forest(Xtrain, Xtest, Ytrain, Ytest, name):\n",
    "    print(\"Starting Random Forest\")\n",
    "    gs = GridSearchCV(rf_model, {\"model__max_depth\": [10, 15, 20],\n",
    "                                 \"model__min_samples_split\": [5, 10]},\n",
    "                      n_jobs=-1, cv=5, scoring=\"accuracy\")\n",
    "\n",
    "    print(\"Training accuracy:\")\n",
    "    gs.fit(Xtrain, Ytrain)\n",
    "\n",
    "    print(gs.best_params_)\n",
    "    print(gs.best_score_)\n",
    "\n",
    "    rf_model.set_params(**gs.best_params_)\n",
    "    rf_model.fit(Xtrain, Ytrain)\n",
    "    print(\"Testing accuracy:\")\n",
    "    pred = rf_model.predict(Xtest)\n",
    "    print(accuracy_score(pred,Ytest))\n",
    "    \n",
    "    joblib.dump(rf_model, f\"../Models/{name}_RF.mdl\")\n",
    "    print(\"model saved\")"
   ]
  },
  {
   "cell_type": "code",
   "execution_count": 40,
   "metadata": {},
   "outputs": [],
   "source": [
    "def run_svm(Xtrain, Xtest, Ytrain, Ytest, name):\n",
    "    print(\"Starting SVM\")\n",
    "    gs = GridSearchCV(svm_model, {\"model__C\": [0.001, 0.1, 1],\n",
    "                                 \"model__gamma\": [0.001, 0.01, 0.1, 1]}, \n",
    "                                  n_jobs=-1, cv=5, scoring=\"accuracy\")\n",
    "    gs.fit(Xtrain, Ytrain)\n",
    "    \n",
    "    print(gs.best_params_)\n",
    "    print(\"Training accuracy:\")\n",
    "    print(gs.best_score_)\n",
    "\n",
    "    svm_model.set_params(**gs.best_params_)\n",
    "    \n",
    "    \n",
    "    svm_model.fit(Xtrain, Ytrain)\n",
    "    print(\"Testing accuracy:\")\n",
    "    pred = svm_model.predict(Xtest)\n",
    "    print(accuracy_score(pred,Ytest))\n",
    "    \n",
    "    joblib.dump(svm_model, f\"../Models/{name}_SVM.mdl\")\n",
    "    print(\"model saved\")"
   ]
  },
  {
   "cell_type": "code",
   "execution_count": 41,
   "metadata": {},
   "outputs": [],
   "source": [
    "def run_decision_trees(Xtrain, Xtest, Ytrain, Ytest, name):\n",
    "    print(\"Starting Decision Trees\")\n",
    "    gs = GridSearchCV(dt_model, {\"model__max_depth\": [3, 5, 7],\n",
    "                                 \"model__min_samples_split\": [2, 5]},\n",
    "                      n_jobs=-1, cv=5, scoring=\"accuracy\")\n",
    "    print(\"Training accuracy:\")\n",
    "    gs.fit(Xtrain, Ytrain)\n",
    "\n",
    "    print(gs.best_params_)\n",
    "    print(gs.best_score_)\n",
    "\n",
    "    dt_model.set_params(**gs.best_params_)\n",
    "    \n",
    "\n",
    "    dt_model.fit(Xtrain, Ytrain)\n",
    "    print(\"Testing accuracy:\")\n",
    "    pred = dt_model.predict(Xtest)\n",
    "    print(accuracy_score(pred,Ytest))\n",
    "    \n",
    "    joblib.dump(dt_model, f\"../Models/{name}_DT.mdl\")\n",
    "    print(\"model saved\")"
   ]
  },
  {
   "cell_type": "code",
   "execution_count": 42,
   "metadata": {},
   "outputs": [],
   "source": [
    "def run_logistic_regression(Xtrain, Xtest, Ytrain, Ytest, name):\n",
    "    print(\"Starting Logistic Regression\")\n",
    "    gs = GridSearchCV(lr_model, {\"model__C\": [1, 1.3, 1.5]}, \n",
    "                      n_jobs=-1, cv=5, scoring=\"accuracy\")\n",
    "    print(\"Training accuracy:\")\n",
    "    gs.fit(Xtrain, Ytrain)\n",
    "\n",
    "    print(gs.best_params_)\n",
    "    print(gs.best_score_)\n",
    "\n",
    "    lr_model.set_params(**gs.best_params_)\n",
    "\n",
    "    lr_model.fit(Xtrain, Ytrain)\n",
    "    print(\"Testing accuracy:\")\n",
    "    pred = lr_model.predict(Xtest)\n",
    "    print(accuracy_score(pred,Ytest))\n",
    "    \n",
    "    joblib.dump(lr_model, f\"../Models/{name}_LR.mdl\")\n",
    "    print(\"model saved\")"
   ]
  },
  {
   "cell_type": "markdown",
   "metadata": {},
   "source": [
    "#### Training on label encoded data"
   ]
  },
  {
   "cell_type": "code",
   "execution_count": 43,
   "metadata": {},
   "outputs": [
    {
     "name": "stdout",
     "output_type": "stream",
     "text": [
      "Starting SVM\n",
      "{'model__C': 1, 'model__gamma': 0.001}\n",
      "Training accuracy:\n",
      "0.6975609756097562\n",
      "Testing accuracy:\n",
      "0.751412429378531\n",
      "model saved\n",
      "====================\n",
      "Starting Random Forest\n",
      "Training accuracy:\n",
      "{'model__max_depth': 15, 'model__min_samples_split': 5}\n",
      "0.9390243902439025\n",
      "Testing accuracy:\n",
      "0.9378531073446328\n",
      "model saved\n",
      "====================\n",
      "Starting Decision Trees\n",
      "Training accuracy:\n",
      "{'model__max_depth': 7, 'model__min_samples_split': 5}\n",
      "0.7682926829268293\n",
      "Testing accuracy:\n",
      "0.807909604519774\n",
      "model saved\n",
      "====================\n",
      "Starting Logistic Regression\n",
      "Training accuracy:\n",
      "{'model__C': 1.3}\n",
      "0.6804878048780487\n",
      "Testing accuracy:\n",
      "0.6892655367231638\n",
      "model saved\n"
     ]
    }
   ],
   "source": [
    "run_svm(Xtrain, Xtest, Ytrain, Ytest, \"label_encoded\")\n",
    "print(\"=\"*20)\n",
    "run_random_forest(Xtrain, Xtest, Ytrain, Ytest, \"label_encoded\")\n",
    "print(\"=\"*20)\n",
    "run_decision_trees(Xtrain, Xtest, Ytrain, Ytest, \"label_encoded\")\n",
    "print(\"=\"*20)\n",
    "run_logistic_regression(Xtrain, Xtest, Ytrain, Ytest, \"label_encoded\")"
   ]
  },
  {
   "cell_type": "markdown",
   "metadata": {},
   "source": [
    "#### Training on hash encoded data"
   ]
  },
  {
   "cell_type": "code",
   "execution_count": 44,
   "metadata": {},
   "outputs": [
    {
     "name": "stdout",
     "output_type": "stream",
     "text": [
      "Starting SVM\n",
      "{'model__C': 1, 'model__gamma': 0.01}\n",
      "Training accuracy:\n",
      "0.7024390243902439\n",
      "Testing accuracy:\n",
      "0.6836158192090396\n",
      "model saved\n",
      "====================\n",
      "Starting Random Forest\n",
      "Training accuracy:\n",
      "{'model__max_depth': 20, 'model__min_samples_split': 5}\n",
      "0.8195121951219513\n",
      "Testing accuracy:\n",
      "0.7966101694915254\n",
      "model saved\n",
      "====================\n",
      "Starting Decision Trees\n",
      "Training accuracy:\n",
      "{'model__max_depth': 7, 'model__min_samples_split': 2}\n",
      "0.7414634146341464\n",
      "Testing accuracy:\n",
      "0.7740112994350282\n",
      "model saved\n",
      "====================\n",
      "Starting Logistic Regression\n",
      "Training accuracy:\n",
      "{'model__C': 1}\n",
      "0.7219512195121951\n",
      "Testing accuracy:\n",
      "0.6949152542372882\n",
      "model saved\n"
     ]
    }
   ],
   "source": [
    "run_svm(Xtrain_hash, Xtest_hash, Ytrain_hash, Ytest_hash, \"hash_encoded\")\n",
    "print(\"=\"*20)\n",
    "run_random_forest(Xtrain_hash, Xtest_hash, Ytrain_hash, Ytest_hash, \"hash_encoded\")\n",
    "print(\"=\"*20)\n",
    "run_decision_trees(Xtrain_hash, Xtest_hash, Ytrain_hash, Ytest_hash, \"hash_encoded\")\n",
    "print(\"=\"*20)\n",
    "run_logistic_regression(Xtrain_hash, Xtest_hash, Ytrain_hash, Ytest_hash, \"hash_encoded\")"
   ]
  },
  {
   "cell_type": "markdown",
   "metadata": {},
   "source": [
    "## Model interpretability"
   ]
  },
  {
   "cell_type": "code",
   "execution_count": 45,
   "metadata": {},
   "outputs": [
    {
     "name": "stderr",
     "output_type": "stream",
     "text": [
      "/usr/local/lib/python3.7/site-packages/sklearn/utils/deprecation.py:143: FutureWarning: The sklearn.metrics.scorer module is  deprecated in version 0.22 and will be removed in version 0.24. The corresponding classes / functions should instead be imported from sklearn.metrics. Anything that cannot be imported from sklearn.metrics is now part of the private API.\n",
      "  warnings.warn(message, FutureWarning)\n",
      "/usr/local/lib/python3.7/site-packages/sklearn/utils/deprecation.py:143: FutureWarning: The sklearn.feature_selection.base module is  deprecated in version 0.22 and will be removed in version 0.24. The corresponding classes / functions should instead be imported from sklearn.feature_selection. Anything that cannot be imported from sklearn.feature_selection is now part of the private API.\n",
      "  warnings.warn(message, FutureWarning)\n"
     ]
    }
   ],
   "source": [
    "import eli5"
   ]
  },
  {
   "cell_type": "markdown",
   "metadata": {},
   "source": [
    "##### Label encoded"
   ]
  },
  {
   "cell_type": "code",
   "execution_count": 46,
   "metadata": {},
   "outputs": [
    {
     "name": "stdout",
     "output_type": "stream",
     "text": [
      "Random forest Accuracy:  0.9378531073446328\n",
      "Classification report:\n",
      "               precision    recall  f1-score   support\n",
      "\n",
      "           0       0.91      0.98      0.95        97\n",
      "           1       0.97      0.89      0.93        80\n",
      "\n",
      "    accuracy                           0.94       177\n",
      "   macro avg       0.94      0.93      0.94       177\n",
      "weighted avg       0.94      0.94      0.94       177\n",
      "\n"
     ]
    },
    {
     "data": {
      "text/html": [
       "\n",
       "    <style>\n",
       "    table.eli5-weights tr:hover {\n",
       "        filter: brightness(85%);\n",
       "    }\n",
       "</style>\n",
       "\n",
       "\n",
       "\n",
       "    \n",
       "\n",
       "    \n",
       "\n",
       "    \n",
       "\n",
       "    \n",
       "\n",
       "    \n",
       "\n",
       "    \n",
       "\n",
       "\n",
       "    \n",
       "\n",
       "    \n",
       "\n",
       "    \n",
       "\n",
       "    \n",
       "\n",
       "    \n",
       "\n",
       "    \n",
       "\n",
       "\n",
       "    \n",
       "\n",
       "    \n",
       "\n",
       "    \n",
       "\n",
       "    \n",
       "\n",
       "    \n",
       "        <table class=\"eli5-weights eli5-feature-importances\" style=\"border-collapse: collapse; border: none; margin-top: 0em; table-layout: auto;\">\n",
       "    <thead>\n",
       "    <tr style=\"border: none;\">\n",
       "        <th style=\"padding: 0 1em 0 0.5em; text-align: right; border: none;\">Weight</th>\n",
       "        <th style=\"padding: 0 0.5em 0 0.5em; text-align: left; border: none;\">Feature</th>\n",
       "    </tr>\n",
       "    </thead>\n",
       "    <tbody>\n",
       "    \n",
       "        <tr style=\"background-color: hsl(120, 100.00%, 80.00%); border: none;\">\n",
       "            <td style=\"padding: 0 1em 0 0.5em; text-align: right; border: none;\">\n",
       "                0.2471\n",
       "                \n",
       "                    &plusmn; 0.1541\n",
       "                \n",
       "            </td>\n",
       "            <td style=\"padding: 0 0.5em 0 0.5em; text-align: left; border: none;\">\n",
       "                orderAmount\n",
       "            </td>\n",
       "        </tr>\n",
       "    \n",
       "        <tr style=\"background-color: hsl(120, 100.00%, 86.03%); border: none;\">\n",
       "            <td style=\"padding: 0 1em 0 0.5em; text-align: right; border: none;\">\n",
       "                0.1481\n",
       "                \n",
       "                    &plusmn; 0.1684\n",
       "                \n",
       "            </td>\n",
       "            <td style=\"padding: 0 0.5em 0 0.5em; text-align: left; border: none;\">\n",
       "                customerIPAddress\n",
       "            </td>\n",
       "        </tr>\n",
       "    \n",
       "        <tr style=\"background-color: hsl(120, 100.00%, 87.16%); border: none;\">\n",
       "            <td style=\"padding: 0 1em 0 0.5em; text-align: right; border: none;\">\n",
       "                0.1312\n",
       "                \n",
       "                    &plusmn; 0.1346\n",
       "                \n",
       "            </td>\n",
       "            <td style=\"padding: 0 0.5em 0 0.5em; text-align: left; border: none;\">\n",
       "                customerEmail\n",
       "            </td>\n",
       "        </tr>\n",
       "    \n",
       "        <tr style=\"background-color: hsl(120, 100.00%, 87.90%); border: none;\">\n",
       "            <td style=\"padding: 0 1em 0 0.5em; text-align: right; border: none;\">\n",
       "                0.1205\n",
       "                \n",
       "                    &plusmn; 0.0923\n",
       "                \n",
       "            </td>\n",
       "            <td style=\"padding: 0 0.5em 0 0.5em; text-align: left; border: none;\">\n",
       "                paymentMethodIssuer\n",
       "            </td>\n",
       "        </tr>\n",
       "    \n",
       "        <tr style=\"background-color: hsl(120, 100.00%, 89.50%); border: none;\">\n",
       "            <td style=\"padding: 0 1em 0 0.5em; text-align: right; border: none;\">\n",
       "                0.0984\n",
       "                \n",
       "                    &plusmn; 0.1103\n",
       "                \n",
       "            </td>\n",
       "            <td style=\"padding: 0 0.5em 0 0.5em; text-align: left; border: none;\">\n",
       "                customerBillingAddress\n",
       "            </td>\n",
       "        </tr>\n",
       "    \n",
       "        <tr style=\"background-color: hsl(120, 100.00%, 90.14%); border: none;\">\n",
       "            <td style=\"padding: 0 1em 0 0.5em; text-align: right; border: none;\">\n",
       "                0.0900\n",
       "                \n",
       "                    &plusmn; 0.1071\n",
       "                \n",
       "            </td>\n",
       "            <td style=\"padding: 0 0.5em 0 0.5em; text-align: left; border: none;\">\n",
       "                customerPhone\n",
       "            </td>\n",
       "        </tr>\n",
       "    \n",
       "        <tr style=\"background-color: hsl(120, 100.00%, 91.02%); border: none;\">\n",
       "            <td style=\"padding: 0 1em 0 0.5em; text-align: right; border: none;\">\n",
       "                0.0787\n",
       "                \n",
       "                    &plusmn; 0.0909\n",
       "                \n",
       "            </td>\n",
       "            <td style=\"padding: 0 0.5em 0 0.5em; text-align: left; border: none;\">\n",
       "                orderShippingAddress\n",
       "            </td>\n",
       "        </tr>\n",
       "    \n",
       "        <tr style=\"background-color: hsl(120, 100.00%, 93.98%); border: none;\">\n",
       "            <td style=\"padding: 0 1em 0 0.5em; text-align: right; border: none;\">\n",
       "                0.0445\n",
       "                \n",
       "                    &plusmn; 0.0625\n",
       "                \n",
       "            </td>\n",
       "            <td style=\"padding: 0 0.5em 0 0.5em; text-align: left; border: none;\">\n",
       "                paymentMethodProvider\n",
       "            </td>\n",
       "        </tr>\n",
       "    \n",
       "        <tr style=\"background-color: hsl(120, 100.00%, 95.94%); border: none;\">\n",
       "            <td style=\"padding: 0 1em 0 0.5em; text-align: right; border: none;\">\n",
       "                0.0253\n",
       "                \n",
       "                    &plusmn; 0.0390\n",
       "                \n",
       "            </td>\n",
       "            <td style=\"padding: 0 0.5em 0 0.5em; text-align: left; border: none;\">\n",
       "                paymentMethodType\n",
       "            </td>\n",
       "        </tr>\n",
       "    \n",
       "        <tr style=\"background-color: hsl(120, 100.00%, 97.48%); border: none;\">\n",
       "            <td style=\"padding: 0 1em 0 0.5em; text-align: right; border: none;\">\n",
       "                0.0128\n",
       "                \n",
       "                    &plusmn; 0.0364\n",
       "                \n",
       "            </td>\n",
       "            <td style=\"padding: 0 0.5em 0 0.5em; text-align: left; border: none;\">\n",
       "                paymentMethodRegistrationFailure\n",
       "            </td>\n",
       "        </tr>\n",
       "    \n",
       "        <tr style=\"background-color: hsl(120, 100.00%, 98.98%); border: none;\">\n",
       "            <td style=\"padding: 0 1em 0 0.5em; text-align: right; border: none;\">\n",
       "                0.0035\n",
       "                \n",
       "                    &plusmn; 0.0134\n",
       "                \n",
       "            </td>\n",
       "            <td style=\"padding: 0 0.5em 0 0.5em; text-align: left; border: none;\">\n",
       "                transactionFailed\n",
       "            </td>\n",
       "        </tr>\n",
       "    \n",
       "    \n",
       "    </tbody>\n",
       "</table>\n",
       "    \n",
       "\n",
       "    \n",
       "\n",
       "\n",
       "    \n",
       "\n",
       "    \n",
       "\n",
       "    \n",
       "\n",
       "    \n",
       "\n",
       "    \n",
       "\n",
       "    \n",
       "\n",
       "\n",
       "\n"
      ],
      "text/plain": [
       "<IPython.core.display.HTML object>"
      ]
     },
     "execution_count": 46,
     "metadata": {},
     "output_type": "execute_result"
    }
   ],
   "source": [
    "# load random forest\n",
    "label_rf_model = joblib.load(\"../Models/label_encoded_RF.mdl\")\n",
    "\n",
    "feature_names_label = list(X.columns)\n",
    "\n",
    "y_pred = label_rf_model.predict(Xtest)\n",
    "\n",
    "print(\"Random forest Accuracy: \", accuracy_score(Ytest, y_pred))\n",
    "\n",
    "print(\"Classification report:\\n\",\n",
    "        classification_report(Ytest, y_pred))\n",
    "\n",
    "eli5.show_weights(label_rf_model.named_steps[\"model\"], feature_names=feature_names_label, top=20)"
   ]
  },
  {
   "cell_type": "markdown",
   "metadata": {},
   "source": [
    "###### Hash encoded"
   ]
  },
  {
   "cell_type": "code",
   "execution_count": 47,
   "metadata": {},
   "outputs": [
    {
     "name": "stdout",
     "output_type": "stream",
     "text": [
      "Random forest Accuracy:  0.7966101694915254\n",
      "Classification report:\n",
      "               precision    recall  f1-score   support\n",
      "\n",
      "           0       0.75      0.94      0.83        97\n",
      "           1       0.89      0.62      0.74        80\n",
      "\n",
      "    accuracy                           0.80       177\n",
      "   macro avg       0.82      0.78      0.79       177\n",
      "weighted avg       0.82      0.80      0.79       177\n",
      "\n"
     ]
    },
    {
     "data": {
      "text/html": [
       "\n",
       "    <style>\n",
       "    table.eli5-weights tr:hover {\n",
       "        filter: brightness(85%);\n",
       "    }\n",
       "</style>\n",
       "\n",
       "\n",
       "\n",
       "    \n",
       "\n",
       "    \n",
       "\n",
       "    \n",
       "\n",
       "    \n",
       "\n",
       "    \n",
       "\n",
       "    \n",
       "\n",
       "\n",
       "    \n",
       "\n",
       "    \n",
       "\n",
       "    \n",
       "\n",
       "    \n",
       "\n",
       "    \n",
       "\n",
       "    \n",
       "\n",
       "\n",
       "    \n",
       "\n",
       "    \n",
       "\n",
       "    \n",
       "\n",
       "    \n",
       "\n",
       "    \n",
       "        <table class=\"eli5-weights eli5-feature-importances\" style=\"border-collapse: collapse; border: none; margin-top: 0em; table-layout: auto;\">\n",
       "    <thead>\n",
       "    <tr style=\"border: none;\">\n",
       "        <th style=\"padding: 0 1em 0 0.5em; text-align: right; border: none;\">Weight</th>\n",
       "        <th style=\"padding: 0 0.5em 0 0.5em; text-align: left; border: none;\">Feature</th>\n",
       "    </tr>\n",
       "    </thead>\n",
       "    <tbody>\n",
       "    \n",
       "        <tr style=\"background-color: hsl(120, 100.00%, 80.00%); border: none;\">\n",
       "            <td style=\"padding: 0 1em 0 0.5em; text-align: right; border: none;\">\n",
       "                0.3596\n",
       "                \n",
       "                    &plusmn; 0.1568\n",
       "                \n",
       "            </td>\n",
       "            <td style=\"padding: 0 0.5em 0 0.5em; text-align: left; border: none;\">\n",
       "                orderAmount\n",
       "            </td>\n",
       "        </tr>\n",
       "    \n",
       "        <tr style=\"background-color: hsl(120, 100.00%, 91.59%); border: none;\">\n",
       "            <td style=\"padding: 0 1em 0 0.5em; text-align: right; border: none;\">\n",
       "                0.1042\n",
       "                \n",
       "                    &plusmn; 0.0796\n",
       "                \n",
       "            </td>\n",
       "            <td style=\"padding: 0 0.5em 0 0.5em; text-align: left; border: none;\">\n",
       "                col_2\n",
       "            </td>\n",
       "        </tr>\n",
       "    \n",
       "        <tr style=\"background-color: hsl(120, 100.00%, 92.17%); border: none;\">\n",
       "            <td style=\"padding: 0 1em 0 0.5em; text-align: right; border: none;\">\n",
       "                0.0942\n",
       "                \n",
       "                    &plusmn; 0.0719\n",
       "                \n",
       "            </td>\n",
       "            <td style=\"padding: 0 0.5em 0 0.5em; text-align: left; border: none;\">\n",
       "                col_7\n",
       "            </td>\n",
       "        </tr>\n",
       "    \n",
       "        <tr style=\"background-color: hsl(120, 100.00%, 93.26%); border: none;\">\n",
       "            <td style=\"padding: 0 1em 0 0.5em; text-align: right; border: none;\">\n",
       "                0.0761\n",
       "                \n",
       "                    &plusmn; 0.0700\n",
       "                \n",
       "            </td>\n",
       "            <td style=\"padding: 0 0.5em 0 0.5em; text-align: left; border: none;\">\n",
       "                col_6\n",
       "            </td>\n",
       "        </tr>\n",
       "    \n",
       "        <tr style=\"background-color: hsl(120, 100.00%, 93.53%); border: none;\">\n",
       "            <td style=\"padding: 0 1em 0 0.5em; text-align: right; border: none;\">\n",
       "                0.0718\n",
       "                \n",
       "                    &plusmn; 0.0611\n",
       "                \n",
       "            </td>\n",
       "            <td style=\"padding: 0 0.5em 0 0.5em; text-align: left; border: none;\">\n",
       "                col_0\n",
       "            </td>\n",
       "        </tr>\n",
       "    \n",
       "        <tr style=\"background-color: hsl(120, 100.00%, 93.65%); border: none;\">\n",
       "            <td style=\"padding: 0 1em 0 0.5em; text-align: right; border: none;\">\n",
       "                0.0698\n",
       "                \n",
       "                    &plusmn; 0.0541\n",
       "                \n",
       "            </td>\n",
       "            <td style=\"padding: 0 0.5em 0 0.5em; text-align: left; border: none;\">\n",
       "                col_5\n",
       "            </td>\n",
       "        </tr>\n",
       "    \n",
       "        <tr style=\"background-color: hsl(120, 100.00%, 94.04%); border: none;\">\n",
       "            <td style=\"padding: 0 1em 0 0.5em; text-align: right; border: none;\">\n",
       "                0.0637\n",
       "                \n",
       "                    &plusmn; 0.0633\n",
       "                \n",
       "            </td>\n",
       "            <td style=\"padding: 0 0.5em 0 0.5em; text-align: left; border: none;\">\n",
       "                col_1\n",
       "            </td>\n",
       "        </tr>\n",
       "    \n",
       "        <tr style=\"background-color: hsl(120, 100.00%, 94.08%); border: none;\">\n",
       "            <td style=\"padding: 0 1em 0 0.5em; text-align: right; border: none;\">\n",
       "                0.0632\n",
       "                \n",
       "                    &plusmn; 0.0566\n",
       "                \n",
       "            </td>\n",
       "            <td style=\"padding: 0 0.5em 0 0.5em; text-align: left; border: none;\">\n",
       "                col_4\n",
       "            </td>\n",
       "        </tr>\n",
       "    \n",
       "        <tr style=\"background-color: hsl(120, 100.00%, 94.38%); border: none;\">\n",
       "            <td style=\"padding: 0 1em 0 0.5em; text-align: right; border: none;\">\n",
       "                0.0587\n",
       "                \n",
       "                    &plusmn; 0.0592\n",
       "                \n",
       "            </td>\n",
       "            <td style=\"padding: 0 0.5em 0 0.5em; text-align: left; border: none;\">\n",
       "                col_3\n",
       "            </td>\n",
       "        </tr>\n",
       "    \n",
       "        <tr style=\"background-color: hsl(120, 100.00%, 97.04%); border: none;\">\n",
       "            <td style=\"padding: 0 1em 0 0.5em; text-align: right; border: none;\">\n",
       "                0.0234\n",
       "                \n",
       "                    &plusmn; 0.0356\n",
       "                \n",
       "            </td>\n",
       "            <td style=\"padding: 0 0.5em 0 0.5em; text-align: left; border: none;\">\n",
       "                paymentMethodRegistrationFailure\n",
       "            </td>\n",
       "        </tr>\n",
       "    \n",
       "        <tr style=\"background-color: hsl(120, 100.00%, 97.80%); border: none;\">\n",
       "            <td style=\"padding: 0 1em 0 0.5em; text-align: right; border: none;\">\n",
       "                0.0154\n",
       "                \n",
       "                    &plusmn; 0.0256\n",
       "                \n",
       "            </td>\n",
       "            <td style=\"padding: 0 0.5em 0 0.5em; text-align: left; border: none;\">\n",
       "                transactionFailed\n",
       "            </td>\n",
       "        </tr>\n",
       "    \n",
       "    \n",
       "    </tbody>\n",
       "</table>\n",
       "    \n",
       "\n",
       "    \n",
       "\n",
       "\n",
       "    \n",
       "\n",
       "    \n",
       "\n",
       "    \n",
       "\n",
       "    \n",
       "\n",
       "    \n",
       "\n",
       "    \n",
       "\n",
       "\n",
       "\n"
      ],
      "text/plain": [
       "<IPython.core.display.HTML object>"
      ]
     },
     "execution_count": 47,
     "metadata": {},
     "output_type": "execute_result"
    }
   ],
   "source": [
    "# load random forest\n",
    "hash_rf_model = joblib.load(\"../Models/hash_encoded_RF.mdl\")\n",
    "\n",
    "feature_names_hash = list(X_hash.columns)\n",
    "\n",
    "y_pred = hash_rf_model.predict(Xtest_hash)\n",
    "\n",
    "print(\"Random forest Accuracy: \", accuracy_score(Ytest_hash, y_pred))\n",
    "\n",
    "print(\"Classification report:\\n\",\n",
    "        classification_report(Ytest_hash, y_pred))\n",
    "\n",
    "eli5.show_weights(hash_rf_model.named_steps[\"model\"], feature_names=feature_names_hash, top=20)"
   ]
  }
 ],
 "metadata": {
  "kernelspec": {
   "display_name": "Python 3",
   "language": "python",
   "name": "python3"
  },
  "language_info": {
   "codemirror_mode": {
    "name": "ipython",
    "version": 3
   },
   "file_extension": ".py",
   "mimetype": "text/x-python",
   "name": "python",
   "nbconvert_exporter": "python",
   "pygments_lexer": "ipython3",
   "version": "3.7.7"
  }
 },
 "nbformat": 4,
 "nbformat_minor": 4
}
